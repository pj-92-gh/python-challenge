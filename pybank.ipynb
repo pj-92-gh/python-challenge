{
 "cells": [
  {
   "cell_type": "code",
   "execution_count": 1,
   "metadata": {},
   "outputs": [
    {
     "name": "stdout",
     "output_type": "stream",
     "text": [
      "Financial Analysis\n",
      "--------------------------\n",
      "Total Months 86\n",
      "Total $38382578\n",
      "Average Change $-2315\n",
      "Greatest Increase in Profits Feb-12 $1926159\n",
      "Greatest Decrease in Profits Sep-13 $-2196167\n"
     ]
    }
   ],
   "source": [
    "import csv\n",
    "\n",
    "with open('data.csv', 'r', newline='') as filename:\n",
    "    reader = csv.reader(filename)\n",
    "    next(filename)\n",
    "    array_c = []\n",
    "    date_c = []\n",
    "    for row in reader:\n",
    "        array_c.append(int(row[1]))\n",
    "        date_c.append(row[0])\n",
    "    diff_a = [array_c[i + 1] - array_c[i] for i in range(len(array_c)-1)]\n",
    "    dif_r = (sum(diff_a))\n",
    "    count_r = (len(array_c))\n",
    "    avg_change = int((dif_r/(count_r-1)))\n",
    "    comb_array = list(zip(date_c,diff_a))\n",
    "    max_diff = max(diff_a)\n",
    "    min_diff = min(diff_a)\n",
    "    for i in comb_array:\n",
    "        if i[1] == max_diff:\n",
    "            for v,j in enumerate(date_c):\n",
    "                if i[0]==j:\n",
    "                    max_date = date_c[v+1]\n",
    "        if i[1] == min_diff:\n",
    "             for o,p in enumerate(date_c):\n",
    "                if i[0]==p:\n",
    "                    min_date = date_c[o+1]\n",
    "                    \n",
    "    # Summary information\n",
    "    \n",
    "    max_final = (max_date + \" \" + '$' + str(max_diff))\n",
    "    min_final = (min_date + \" \" + '$' + str(min_diff))\n",
    "    sum_r = (sum(array_c))\n",
    "    \n",
    "    print('Financial Analysis')\n",
    "    print('--------------------------')\n",
    "    print('Total Months ' + str(count_r))\n",
    "    print('Total ' + \"$\" + str(sum_r))\n",
    "    print('Average Change ' + \"$\" + str(avg_change))\n",
    "    print('Greatest Increase in Profits ' + str(max_final))\n",
    "    print('Greatest Decrease in Profits ' + str(min_final))"
   ]
  },
  {
   "cell_type": "code",
   "execution_count": 17,
   "metadata": {},
   "outputs": [
    {
     "name": "stdout",
     "output_type": "stream",
     "text": [
      "Done\n"
     ]
    }
   ],
   "source": [
    "## Write output to text file ##\n",
    "\n",
    "with open('fin_output.txt', 'w') as f:\n",
    "    writer = csv.writer(f)\n",
    "    writer.writerow(['Financial Analysis'])\n",
    "    writer.writerow(['--------------------------'])\n",
    "    writer.writerow(['Total Months ' + str(count_r)])\n",
    "    writer.writerow(['Total ' + \"$\" + str(sum_r)])\n",
    "    writer.writerow(['Average Change ' + \"$\" + str(avg_change)])\n",
    "    writer.writerow(['Greatest Increase in Profits ' + str(max_final)])\n",
    "    writer.writerow(['Greatest Decrease in Profits ' + str(min_final)])\n",
    "f.close()\n",
    "print('Done')"
   ]
  }
 ],
 "metadata": {
  "kernelspec": {
   "display_name": "Python 3",
   "language": "python",
   "name": "python3"
  },
  "language_info": {
   "codemirror_mode": {
    "name": "ipython",
    "version": 3
   },
   "file_extension": ".py",
   "mimetype": "text/x-python",
   "name": "python",
   "nbconvert_exporter": "python",
   "pygments_lexer": "ipython3",
   "version": "3.7.3"
  }
 },
 "nbformat": 4,
 "nbformat_minor": 2
}
